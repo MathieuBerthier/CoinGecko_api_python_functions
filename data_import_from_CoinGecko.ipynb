{
 "cells": [
  {
   "cell_type": "code",
   "execution_count": 69,
   "metadata": {},
   "outputs": [],
   "source": [
    "import pandas as pd\n",
    "import requests, json, time\n",
    "from datetime import datetime, timedelta\n",
    "\n",
    "def coin_history(coin_to_get: str, change: str, start_date: str) -> pd.core.frame.DataFrame:\n",
    "    \"\"\" Function that automatically gets informations from coingecko coming from a start date until today.\n",
    "    coin_to_get = \"bitcoin\", ...\n",
    "    change = \"eur\", \"usd\", ...\n",
    "    start = \"yyyy-mm-dd\"\n",
    "    \"\"\"\n",
    "    start_date = datetime.strptime(start_date, '%Y-%m-%d')\n",
    "    end_date = datetime.today()\n",
    "    list_of_days = [start_date + timedelta(days=x) for x in range((end_date - start_date).days)]\n",
    "    base_url = \"https://api.coingecko.com/api/v3/coins/\"\n",
    "    \n",
    "    for day in list_of_days:\n",
    "        # URL to request\n",
    "        url_to_get = base_url + coin_to_get + \"/history?date=\" + day.strftime(\"%d-%m-%Y\") + \"&localization=fr\"\n",
    "        try:\n",
    "            # Coin infos to get\n",
    "            coin = requests.get(url_to_get).json()\n",
    "            price = coin['market_data']['current_price'][change]\n",
    "        except:\n",
    "            # if there is an error for a specific day, the day will be added in a list\n",
    "            print(f\"Error: {day}\")\n",
    "        else:\n",
    "            id_coin = coin['id']\n",
    "            price = coin['market_data']['current_price'][change]\n",
    "            market_cap = coin['market_data']['market_cap'][change]\n",
    "            total_volume = coin['market_data']['total_volume']['usd']\n",
    "            twitter_followers = coin['community_data']['twitter_followers']\n",
    "            reddit_average_posts_48h = coin['community_data']['reddit_average_posts_48h']\n",
    "            reddit_average_comments_48h = coin['community_data']['reddit_average_comments_48h']\n",
    "            reddit_subscribers = coin['community_data']['reddit_subscribers']\n",
    "            reddit_accounts_active_48h = coin['community_data']['reddit_accounts_active_48h']\n",
    "            # Data that will be added into a dataframe\n",
    "            line_to_append = [[day, id_coin, price, market_cap, total_volume, twitter_followers, reddit_average_posts_48h, reddit_average_comments_48h, reddit_subscribers, reddit_accounts_active_48h]]\n",
    "\n",
    "            if day == list_of_days[0]:\n",
    "                coin_informations = pd.DataFrame(line_to_append, columns=['date', 'id_coin','price', 'market_cap', 'total_volume', 'twitter_followers', 'reddit_average_posts_48h', 'reddit_average_comments_48h', 'reddit_subscribers', 'reddit_accounts_active_48h'])\n",
    "            else:\n",
    "                coin_informations = coin_informations.append(pd.DataFrame(line_to_append, columns=['date', 'id_coin','price', 'market_cap', 'total_volume', 'twitter_followers', 'reddit_average_posts_48h', 'reddit_average_comments_48h', 'reddit_subscribers', 'reddit_accounts_active_48h']), ignore_index=True)\n",
    "            # 50 calls/minute for the CoinGecko Crypto Data API Free plan\n",
    "            time.sleep(1.2)\n",
    "\n",
    "    return coin_informations"
   ]
  },
  {
   "cell_type": "code",
   "execution_count": null,
   "metadata": {},
   "outputs": [],
   "source": [
    "# Example\n",
    "bitcoin_history_2022 = coin_history(\"bitcoin\", \"usd\", \"2022-01-01\")"
   ]
  },
  {
   "cell_type": "code",
   "execution_count": 68,
   "metadata": {},
   "outputs": [],
   "source": [
    "import pandas as pd\n",
    "import requests, json, time\n",
    "from datetime import datetime, timedelta\n",
    "\n",
    "def coin_history_with_start_and_end_date(coin_to_get: str, change: str, start_date:str, end_date:str) -> pd.core.frame.DataFrame:\n",
    "    \"\"\" Function that automatically gets informations from coingecko coming from a start date until a end date.\n",
    "    coin_to_get = \"bitcoin\", ...\n",
    "    change = \"eur\", \"usd\", ...\n",
    "    start_date = \"yyyy-mm-dd\"\n",
    "    end_date = \"yyyy-mm-dd\"\n",
    "    \"\"\"\n",
    "    start_date = datetime.strptime(start_date, '%Y-%m-%d')\n",
    "    end_date = datetime.strptime(end_date, '%Y-%m-%d')\n",
    "    list_of_days = [start_date + timedelta(days=x) for x in range(0, (end_date - start_date).days + 1)]\n",
    "    base_url = \"https://api.coingecko.com/api/v3/coins/\"\n",
    "    \n",
    "    for day in list_of_days:\n",
    "        # URL to request\n",
    "        url_to_get = base_url + coin_to_get + \"/history?date=\" + day.strftime(\"%d-%m-%Y\") + \"&localization=fr\"\n",
    "        try:\n",
    "            # Coin infos to get\n",
    "            coin = requests.get(url_to_get).json()\n",
    "            price = coin['market_data']['current_price'][change]\n",
    "        except:\n",
    "            # if there is an error for a specific day, the day will be added in a list\n",
    "            print(f\"Error: {day}\")\n",
    "        else:\n",
    "            id_coin = coin['id']\n",
    "            price = coin['market_data']['current_price'][change]\n",
    "            market_cap = coin['market_data']['market_cap'][change]\n",
    "            total_volume = coin['market_data']['total_volume']['usd']\n",
    "            twitter_followers = coin['community_data']['twitter_followers']\n",
    "            reddit_average_posts_48h = coin['community_data']['reddit_average_posts_48h']\n",
    "            reddit_average_comments_48h = coin['community_data']['reddit_average_comments_48h']\n",
    "            reddit_subscribers = coin['community_data']['reddit_subscribers']\n",
    "            reddit_accounts_active_48h = coin['community_data']['reddit_accounts_active_48h']\n",
    "            # Data that will be added into a dataframe\n",
    "            line_to_append = [[day, id_coin, price, market_cap, total_volume, twitter_followers, reddit_average_posts_48h, reddit_average_comments_48h, reddit_subscribers, reddit_accounts_active_48h]]\n",
    "\n",
    "            if day == list_of_days[0]:\n",
    "                coin_informations = pd.DataFrame(line_to_append, columns=['date', 'id_coin','price', 'market_cap', 'total_volume', 'twitter_followers', 'reddit_average_posts_48h', 'reddit_average_comments_48h', 'reddit_subscribers', 'reddit_accounts_active_48h'])\n",
    "            else:\n",
    "                coin_informations = coin_informations.append(pd.DataFrame(line_to_append, columns=['date', 'id_coin','price', 'market_cap', 'total_volume', 'twitter_followers', 'reddit_average_posts_48h', 'reddit_average_comments_48h', 'reddit_subscribers', 'reddit_accounts_active_48h']), ignore_index=True)\n",
    "            # 50 calls/minute for the CoinGecko Crypto Data API Free plan\n",
    "            time.sleep(1.2)\n",
    "\n",
    "    return coin_informations"
   ]
  },
  {
   "cell_type": "code",
   "execution_count": 65,
   "metadata": {},
   "outputs": [
    {
     "name": "stdout",
     "output_type": "stream",
     "text": [
      "Error: 2015-01-28 00:00:00\n"
     ]
    }
   ],
   "source": [
    "# Example\n",
    "bitcoin_history_2015 = coin_history_with_start_and_end_date(\"bitcoin\", \"usd\", \"2015-01-26\", \"2015-01-30\")"
   ]
  }
 ],
 "metadata": {
  "kernelspec": {
   "display_name": "Python 3",
   "language": "python",
   "name": "python3"
  },
  "language_info": {
   "codemirror_mode": {
    "name": "ipython",
    "version": 3
   },
   "file_extension": ".py",
   "mimetype": "text/x-python",
   "name": "python",
   "nbconvert_exporter": "python",
   "pygments_lexer": "ipython3",
   "version": "3.7.9"
  }
 },
 "nbformat": 4,
 "nbformat_minor": 4
}
